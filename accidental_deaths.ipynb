{
 "cells": [
  {
   "cell_type": "code",
   "execution_count": 5,
   "metadata": {},
   "outputs": [],
   "source": [
    "import pandas as pd\n",
    "from sqlalchemy import create_engine"
   ]
  },
  {
   "cell_type": "code",
   "execution_count": 6,
   "metadata": {},
   "outputs": [
    {
     "data": {
      "text/html": [
       "<div>\n",
       "<style scoped>\n",
       "    .dataframe tbody tr th:only-of-type {\n",
       "        vertical-align: middle;\n",
       "    }\n",
       "\n",
       "    .dataframe tbody tr th {\n",
       "        vertical-align: top;\n",
       "    }\n",
       "\n",
       "    .dataframe thead th {\n",
       "        text-align: right;\n",
       "    }\n",
       "</style>\n",
       "<table border=\"1\" class=\"dataframe\">\n",
       "  <thead>\n",
       "    <tr style=\"text-align: right;\">\n",
       "      <th></th>\n",
       "      <th>Incident ID</th>\n",
       "      <th>Incident Date</th>\n",
       "      <th>State</th>\n",
       "      <th>City Or County</th>\n",
       "      <th>Address</th>\n",
       "      <th># Killed</th>\n",
       "      <th># Injured</th>\n",
       "      <th>Operations</th>\n",
       "    </tr>\n",
       "  </thead>\n",
       "  <tbody>\n",
       "    <tr>\n",
       "      <th>0</th>\n",
       "      <td>2371338</td>\n",
       "      <td>July 26, 2022</td>\n",
       "      <td>South Carolina</td>\n",
       "      <td>Johns Island</td>\n",
       "      <td>Jules St</td>\n",
       "      <td>1</td>\n",
       "      <td>0</td>\n",
       "      <td>NaN</td>\n",
       "    </tr>\n",
       "    <tr>\n",
       "      <th>1</th>\n",
       "      <td>2370647</td>\n",
       "      <td>July 26, 2022</td>\n",
       "      <td>Indiana</td>\n",
       "      <td>Muncie</td>\n",
       "      <td>2810 S. Monroe St</td>\n",
       "      <td>1</td>\n",
       "      <td>0</td>\n",
       "      <td>NaN</td>\n",
       "    </tr>\n",
       "    <tr>\n",
       "      <th>2</th>\n",
       "      <td>2370544</td>\n",
       "      <td>July 25, 2022</td>\n",
       "      <td>Washington</td>\n",
       "      <td>Ellensburg</td>\n",
       "      <td>Yew St</td>\n",
       "      <td>1</td>\n",
       "      <td>0</td>\n",
       "      <td>NaN</td>\n",
       "    </tr>\n",
       "    <tr>\n",
       "      <th>3</th>\n",
       "      <td>2369189</td>\n",
       "      <td>July 24, 2022</td>\n",
       "      <td>Michigan</td>\n",
       "      <td>Niles</td>\n",
       "      <td>3100 block of Detroit Rd</td>\n",
       "      <td>1</td>\n",
       "      <td>0</td>\n",
       "      <td>NaN</td>\n",
       "    </tr>\n",
       "    <tr>\n",
       "      <th>4</th>\n",
       "      <td>2366931</td>\n",
       "      <td>July 22, 2022</td>\n",
       "      <td>Florida</td>\n",
       "      <td>Saint Petersburg</td>\n",
       "      <td>5800 Lynn Lake Dr S</td>\n",
       "      <td>1</td>\n",
       "      <td>0</td>\n",
       "      <td>NaN</td>\n",
       "    </tr>\n",
       "  </tbody>\n",
       "</table>\n",
       "</div>"
      ],
      "text/plain": [
       "   Incident ID  Incident Date           State    City Or County  \\\n",
       "0      2371338  July 26, 2022  South Carolina      Johns Island   \n",
       "1      2370647  July 26, 2022         Indiana            Muncie   \n",
       "2      2370544  July 25, 2022      Washington        Ellensburg   \n",
       "3      2369189  July 24, 2022        Michigan             Niles   \n",
       "4      2366931  July 22, 2022         Florida  Saint Petersburg   \n",
       "\n",
       "                    Address  # Killed  # Injured  Operations  \n",
       "0                  Jules St         1          0         NaN  \n",
       "1         2810 S. Monroe St         1          0         NaN  \n",
       "2                    Yew St         1          0         NaN  \n",
       "3  3100 block of Detroit Rd         1          0         NaN  \n",
       "4       5800 Lynn Lake Dr S         1          0         NaN  "
      ]
     },
     "execution_count": 6,
     "metadata": {},
     "output_type": "execute_result"
    }
   ],
   "source": [
    "accidental_deaths = \"accidental deaths.csv\"\n",
    "accidental_deaths_df = pd.read_csv(accidental_deaths)\n",
    "accidental_deaths_df.head()"
   ]
  },
  {
   "cell_type": "code",
   "execution_count": 49,
   "metadata": {},
   "outputs": [
    {
     "data": {
      "text/html": [
       "<div>\n",
       "<style scoped>\n",
       "    .dataframe tbody tr th:only-of-type {\n",
       "        vertical-align: middle;\n",
       "    }\n",
       "\n",
       "    .dataframe tbody tr th {\n",
       "        vertical-align: top;\n",
       "    }\n",
       "\n",
       "    .dataframe thead th {\n",
       "        text-align: right;\n",
       "    }\n",
       "</style>\n",
       "<table border=\"1\" class=\"dataframe\">\n",
       "  <thead>\n",
       "    <tr style=\"text-align: right;\">\n",
       "      <th></th>\n",
       "      <th>incident_id</th>\n",
       "      <th>incident_date</th>\n",
       "      <th>state</th>\n",
       "      <th>city_county</th>\n",
       "      <th>no_injured</th>\n",
       "      <th>no_killed</th>\n",
       "    </tr>\n",
       "    <tr>\n",
       "      <th>ID</th>\n",
       "      <th></th>\n",
       "      <th></th>\n",
       "      <th></th>\n",
       "      <th></th>\n",
       "      <th></th>\n",
       "      <th></th>\n",
       "    </tr>\n",
       "  </thead>\n",
       "  <tbody>\n",
       "    <tr>\n",
       "      <th>0</th>\n",
       "      <td>2371338</td>\n",
       "      <td>July 26, 2022</td>\n",
       "      <td>South Carolina</td>\n",
       "      <td>Johns Island</td>\n",
       "      <td>0</td>\n",
       "      <td>1</td>\n",
       "    </tr>\n",
       "    <tr>\n",
       "      <th>1</th>\n",
       "      <td>2370647</td>\n",
       "      <td>July 26, 2022</td>\n",
       "      <td>Indiana</td>\n",
       "      <td>Muncie</td>\n",
       "      <td>0</td>\n",
       "      <td>1</td>\n",
       "    </tr>\n",
       "    <tr>\n",
       "      <th>2</th>\n",
       "      <td>2370544</td>\n",
       "      <td>July 25, 2022</td>\n",
       "      <td>Washington</td>\n",
       "      <td>Ellensburg</td>\n",
       "      <td>0</td>\n",
       "      <td>1</td>\n",
       "    </tr>\n",
       "    <tr>\n",
       "      <th>3</th>\n",
       "      <td>2369189</td>\n",
       "      <td>July 24, 2022</td>\n",
       "      <td>Michigan</td>\n",
       "      <td>Niles</td>\n",
       "      <td>0</td>\n",
       "      <td>1</td>\n",
       "    </tr>\n",
       "    <tr>\n",
       "      <th>4</th>\n",
       "      <td>2366931</td>\n",
       "      <td>July 22, 2022</td>\n",
       "      <td>Florida</td>\n",
       "      <td>Saint Petersburg</td>\n",
       "      <td>0</td>\n",
       "      <td>1</td>\n",
       "    </tr>\n",
       "  </tbody>\n",
       "</table>\n",
       "</div>"
      ],
      "text/plain": [
       "    incident_id  incident_date           state       city_county  no_injured  \\\n",
       "ID                                                                             \n",
       "0       2371338  July 26, 2022  South Carolina      Johns Island           0   \n",
       "1       2370647  July 26, 2022         Indiana            Muncie           0   \n",
       "2       2370544  July 25, 2022      Washington        Ellensburg           0   \n",
       "3       2369189  July 24, 2022        Michigan             Niles           0   \n",
       "4       2366931  July 22, 2022         Florida  Saint Petersburg           0   \n",
       "\n",
       "    no_killed  \n",
       "ID             \n",
       "0           1  \n",
       "1           1  \n",
       "2           1  \n",
       "3           1  \n",
       "4           1  "
      ]
     },
     "execution_count": 49,
     "metadata": {},
     "output_type": "execute_result"
    }
   ],
   "source": [
    "# Create a filtered dataframe from specific columns\n",
    "columns = [\"Incident ID\", \"Incident Date\", \"State\", \"City Or County\", \"# Injured\", \"# Killed\"]\n",
    "transformed= accidental_deaths_df[columns].copy()\n",
    "transformed.reset_index(inplace=True)\n",
    "\n",
    "# Rename the column headers\n",
    "transformed = transformed.rename(columns={\"index\":\"ID\",\n",
    "                                                    \"Incident ID\": \"incident_id\",\n",
    "                                                    \"Incident Date\": \"incident_date\",\n",
    "                                                    \"State\": \"state\",\n",
    "                                                    \"City Or County\": \"city_county\",\n",
    "                                                    \"# Injured\":\"no_injured\",\n",
    "                                                    \"# Killed\": \"no_killed\"})\n",
    "\n",
    "transformed.set_index(\"ID\", inplace=True)\n",
    "\n",
    "transformed.head()\n"
   ]
  },
  {
   "cell_type": "code",
   "execution_count": 51,
   "metadata": {},
   "outputs": [],
   "source": [
    "states = list(transformed[\"state\"].unique())\n",
    "states\n",
    "\n",
    "states = pd.DataFrame(states)\n",
    "states = states.rename(columns={0:\"state\"})\n",
    "\n",
    "\n"
   ]
  },
  {
   "cell_type": "code",
   "execution_count": 15,
   "metadata": {},
   "outputs": [],
   "source": [
    "connection_string = \"postgres:password@localhost:5432/gun_violence_db\"\n",
    "engine = create_engine(f'postgresql://{connection_string}')"
   ]
  },
  {
   "cell_type": "code",
   "execution_count": 46,
   "metadata": {},
   "outputs": [
    {
     "name": "stderr",
     "output_type": "stream",
     "text": [
      "/Users/alexanderpowers/opt/anaconda3/envs/bootcamp/lib/python3.7/site-packages/ipykernel_launcher.py:2: SADeprecationWarning: The Engine.table_names() method is deprecated and will be removed in a future release.  Please refer to Inspector.get_table_names(). (deprecated since: 1.4)\n",
      "  \n"
     ]
    },
    {
     "data": {
      "text/plain": [
       "['accidental_injuries', 'mass_shootings', 'accidental_deaths', 'overdoses']"
      ]
     },
     "execution_count": 46,
     "metadata": {},
     "output_type": "execute_result"
    }
   ],
   "source": [
    "# Confirm tables\n",
    "engine.table_names()"
   ]
  },
  {
   "cell_type": "code",
   "execution_count": 50,
   "metadata": {},
   "outputs": [],
   "source": [
    "transformed.to_sql(name='accidental_deaths', con=engine, if_exists='append', index=True)\n"
   ]
  },
  {
   "cell_type": "code",
   "execution_count": 40,
   "metadata": {},
   "outputs": [],
   "source": [
    "states.to_sql(name='states', con=engine, if_exists='append', index=True)"
   ]
  },
  {
   "cell_type": "code",
   "execution_count": 52,
   "metadata": {},
   "outputs": [],
   "source": [
    "mass_shootings = \"mass_shootings_all.csv\"\n",
    "mass_shootings_df = pd.read_csv(mass_shootings)\n",
    "\n",
    "columns = [\"Incident ID\", \"Incident Date\", \"State\", \"City Or County\", \"# Injured\", \"# Killed\"]\n",
    "transformed_ms= mass_shootings_df[columns].copy()\n",
    "transformed_ms.reset_index(inplace=True)\n",
    "\n",
    "\n",
    "transformed_ms = transformed_ms.rename(columns={\"index\":\"ID\",\n",
    "                                                    \"Incident ID\": \"incident_id\",\n",
    "                                                    \"Incident Date\": \"incident_date\",\n",
    "                                                    \"State\": \"state\",\n",
    "                                                    \"City Or County\": \"city_county\",\n",
    "                                                    \"# Injured\":\"no_injured\",\n",
    "                                                    \"# Killed\": \"no_killed\"})\n",
    "\n",
    "transformed_ms.set_index(\"ID\", inplace=True)\n",
    "\n",
    "transformed_ms.to_sql(name='mass_shootings', con=engine, if_exists='append', index=True)"
   ]
  },
  {
   "cell_type": "code",
   "execution_count": 53,
   "metadata": {},
   "outputs": [],
   "source": [
    "accidental_injuries = \"accidental_injuries.csv\"\n",
    "accidental_injuries_df = pd.read_csv(accidental_injuries)\n",
    "\n",
    "\n",
    "columns = [\"Incident ID\", \"Incident Date\", \"State\", \"City Or County\", \"# Injured\", \"# Killed\"]\n",
    "transformed_ai= accidental_injuries_df[columns].copy()\n",
    "transformed_ai.reset_index(inplace=True)\n",
    "\n",
    "\n",
    "transformed_ai = transformed_ai.rename(columns={\"index\":\"ID\",\n",
    "                                                    \"Incident ID\": \"incident_id\",\n",
    "                                                    \"Incident Date\": \"incident_date\",\n",
    "                                                    \"State\": \"state\",\n",
    "                                                    \"City Or County\": \"city_county\",\n",
    "                                                    \"# Injured\":\"no_injured\",\n",
    "                                                    \"# Killed\": \"no_killed\"})\n",
    "\n",
    "transformed_ai.set_index(\"ID\", inplace=True)\n",
    "\n",
    "transformed_ai.to_sql(name='accidental_injuries', con=engine, if_exists='append', index=True)"
   ]
  },
  {
   "cell_type": "code",
   "execution_count": 60,
   "metadata": {},
   "outputs": [],
   "source": [
    "overdoses = \"overdoses.csv\"\n",
    "overdoses_df = pd.read_csv(overdoses)\n",
    "\n",
    "\n",
    "columns = [\"State\",\"Population\",\"Deaths\"]\n",
    "transformed_o = overdoses_df[columns].copy()\n",
    "transformed_o.reset_index(inplace=True)\n",
    "\n",
    "transformed_o= transformed_o.rename(columns={\"index\":\"ID\",\n",
    "                                                    \"State\": \"state\",\n",
    "                                                    \"Population\":\"population\",\n",
    "                                                    \"Deaths\":\"deaths\"})\n",
    "\n",
    "transformed_o[\"population\"]=transformed_o[\"population\"].str.replace(\",\",\"\")\n",
    "transformed_o[\"deaths\"]=transformed_o[\"deaths\"].str.replace(\",\",\"\")\n",
    "transformed_o\n",
    "\n",
    "transformed_o.set_index(\"ID\", inplace=True)\n",
    "\n",
    "transformed_o.to_sql(name='overdoses', con=engine, if_exists='append', index=True)"
   ]
  }
 ],
 "metadata": {
  "kernelspec": {
   "display_name": "Python 3.7.13 ('bootcamp')",
   "language": "python",
   "name": "python3"
  },
  "language_info": {
   "codemirror_mode": {
    "name": "ipython",
    "version": 3
   },
   "file_extension": ".py",
   "mimetype": "text/x-python",
   "name": "python",
   "nbconvert_exporter": "python",
   "pygments_lexer": "ipython3",
   "version": "3.7.13"
  },
  "orig_nbformat": 4,
  "vscode": {
   "interpreter": {
    "hash": "bb77244d981075190e8bf029e61e7022e179ee55f7c5c706b907b322840c36db"
   }
  }
 },
 "nbformat": 4,
 "nbformat_minor": 2
}
